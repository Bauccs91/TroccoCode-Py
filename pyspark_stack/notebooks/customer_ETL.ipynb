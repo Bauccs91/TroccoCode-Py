{
 "cells": [
  {
   "cell_type": "code",
   "execution_count": 2,
   "id": "0aa27230-5ca6-4b4d-9134-7021511e7dcf",
   "metadata": {},
   "outputs": [],
   "source": [
    "###Starting Spark Session\n",
    "from pyspark.sql import SparkSession\n",
    "spark = SparkSession.builder.appName(\"customerETLPr3\").getOrCreate()"
   ]
  },
  {
   "cell_type": "code",
   "execution_count": 7,
   "id": "db0f7a3d-b00f-410c-aeb3-627a65a412b3",
   "metadata": {},
   "outputs": [],
   "source": [
    "###Reading files placed on hdfs\n",
    "df_orders = spark.read.option(\"header\", True).csv(\"hdfs://hdfs-namenode:9000/customer_etl/input/orders.csv\")\n",
    "df_products = spark.read.json(\"hdfs://hdfs-namenode:9000/customer_etl/input/products.json\")\n",
    "df_customers = spark.read.option(\"header\", True).csv(\"hdfs://hdfs-namenode:9000/customer_etl/input/customers.csv\")"
   ]
  },
  {
   "cell_type": "code",
   "execution_count": 10,
   "id": "4c8b45a6-5942-4c02-95ef-c6e4d7219319",
   "metadata": {},
   "outputs": [],
   "source": [
    "###Creating temp views to manipulate data\n",
    "df_orders.createOrReplaceTempView(\"orders\")\n",
    "df_products.createOrReplaceTempView(\"products\")\n",
    "df_customers.createOrReplaceTempView(\"customers\")\n"
   ]
  },
  {
   "cell_type": "code",
   "execution_count": null,
   "id": "0de1faf4-e051-404e-bb44-1712ab99e280",
   "metadata": {},
   "outputs": [],
   "source": [
    "# Enrich with price\n",
    "spark.sql(\"\"\"\n",
    "    CREATE OR REPLACE TEMP VIEW enriched_orders AS\n",
    "    SELECT\n",
    "        o.order_id,\n",
    "        o.customer_id,\n",
    "        o.product_id,\n",
    "        o.quantity,\n",
    "        o.order_date,\n",
    "        p.category,\n",
    "        p.unit_price,\n",
    "        o.quantity * p.unit_price AS total_price\n",
    "    FROM orders o\n",
    "    JOIN products p ON o.product_id = p.product_id\n",
    "\"\"\")"
   ]
  },
  {
   "cell_type": "code",
   "execution_count": null,
   "id": "57cc3485-efa2-46b1-9a9b-8b6496e8f55b",
   "metadata": {},
   "outputs": [],
   "source": [
    "# Aggregate per customer\n",
    "spark.sql(\"\"\"\n",
    "    CREATE OR REPLACE TEMP VIEW customer_metrics AS\n",
    "    SELECT\n",
    "        customer_id,\n",
    "        COUNT(order_id) AS total_orders,\n",
    "        SUM(total_price) AS total_spent,\n",
    "        COUNT(DISTINCT order_date) AS days_active,\n",
    "        COUNT(DISTINCT category) AS categories_bought\n",
    "    FROM enriched_orders\n",
    "    GROUP BY customer_id\n",
    "\"\"\")"
   ]
  },
  {
   "cell_type": "code",
   "execution_count": null,
   "id": "67d8248b-4ab2-43e3-b774-1030fb140658",
   "metadata": {},
   "outputs": [],
   "source": [
    "# Add loyalty label\n",
    "spark.sql(\"\"\"\n",
    "    CREATE OR REPLACE TEMP VIEW customer_loyalty AS\n",
    "    SELECT\n",
    "        m.customer_id,\n",
    "        c.customer_name,\n",
    "        c.city,\n",
    "        c.state,\n",
    "        c.signup_date,\n",
    "        m.total_orders,\n",
    "        m.total_spent,\n",
    "        m.days_active,\n",
    "        m.categories_bought,\n",
    "        CASE\n",
    "            WHEN m.total_orders >= 3 AND m.days_active >= 2 AND m.categories_bought >= 2 THEN 'Loyal'\n",
    "            WHEN m.total_orders >= 2 AND (m.days_active >= 2 OR m.categories_bought >= 2) THEN 'Engaged'\n",
    "            ELSE 'Casual'\n",
    "        END AS loyalty_status\n",
    "    FROM customer_metrics m\n",
    "    JOIN customers c ON m.customer_id = c.customer_id\n",
    "\"\"\")"
   ]
  },
  {
   "cell_type": "code",
   "execution_count": null,
   "id": "cfe1720f-325a-452b-b765-bba84ec9236d",
   "metadata": {},
   "outputs": [],
   "source": [
    "##Write Final Output to HDFS (Parquet only)\n",
    "\n",
    "df_loyalty = spark.sql(\"SELECT * FROM customer_loyalty\")\n",
    "\n",
    "df_loyalty.write.mode(\"overwrite\").option(\"header\", True).csv(\"hdfs://hdfs-namenode:9000/customer_etl/output/loyalty_snapshot\")"
   ]
  },
  {
   "cell_type": "code",
   "execution_count": null,
   "id": "55c0ab48-1fef-4f31-901e-cd7cf297d7ad",
   "metadata": {},
   "outputs": [],
   "source": []
  }
 ],
 "metadata": {
  "kernelspec": {
   "display_name": "Python 3 (ipykernel)",
   "language": "python",
   "name": "python3"
  },
  "language_info": {
   "codemirror_mode": {
    "name": "ipython",
    "version": 3
   },
   "file_extension": ".py",
   "mimetype": "text/x-python",
   "name": "python",
   "nbconvert_exporter": "python",
   "pygments_lexer": "ipython3",
   "version": "3.10.5"
  }
 },
 "nbformat": 4,
 "nbformat_minor": 5
}
