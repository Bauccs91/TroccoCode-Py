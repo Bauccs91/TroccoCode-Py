{
 "cells": [
  {
   "cell_type": "code",
   "execution_count": 1,
   "id": "53a9de4b-bfdb-40fc-b3ce-0e779117a73c",
   "metadata": {},
   "outputs": [],
   "source": [
    "from pyspark.sql import SparkSession\n",
    "spark = SparkSession.builder.appName(\"TestNotebook\").getOrCreate()"
   ]
  },
  {
   "cell_type": "code",
   "execution_count": 4,
   "id": "f8840f72-c770-419e-a86b-fa41df6b677a",
   "metadata": {},
   "outputs": [],
   "source": [
    "df_customers_csv = spark.read.option('header',True).csv('/opt/spark-apps/input/customers.csv')"
   ]
  },
  {
   "cell_type": "code",
   "execution_count": 6,
   "id": "a429dfd8-7fe0-4bb8-aaf5-ed34783f3704",
   "metadata": {},
   "outputs": [
    {
     "name": "stdout",
     "output_type": "stream",
     "text": [
      "+-----------+----------+----------------+---+-------+\n",
      "|customer_id|      name|           email|age|country|\n",
      "+-----------+----------+----------------+---+-------+\n",
      "|        101|  John Doe|john@example.com| 28|     US|\n",
      "|        102|Jane Smith|jane@example.com| 34|     UK|\n",
      "|        103|  Ali Khan| ali@example.com| 40|    UAE|\n",
      "|        104|Rita Mehra|rita@example.com| 25|  India|\n",
      "|        105| Wei Zhang| wei@example.com| 31|  China|\n",
      "+-----------+----------+----------------+---+-------+\n",
      "\n"
     ]
    }
   ],
   "source": [
    "df_customers_csv.show()"
   ]
  },
  {
   "cell_type": "code",
   "execution_count": 8,
   "id": "2f1a4229-abff-4a67-bb73-5a727c31c6dc",
   "metadata": {},
   "outputs": [
    {
     "name": "stdout",
     "output_type": "stream",
     "text": [
      "+------+-----------+--------+----------+\n",
      "|amount|customer_id|order_id|    status|\n",
      "+------+-----------+--------+----------+\n",
      "| 250.5|        101|    5001|   shipped|\n",
      "| 145.0|        102|    5002| cancelled|\n",
      "|389.99|        104|    5003|processing|\n",
      "| 89.99|        105|    5004|   shipped|\n",
      "| 199.0|        106|    5005|  returned|\n",
      "+------+-----------+--------+----------+\n",
      "\n"
     ]
    }
   ],
   "source": [
    "df_customers_json = spark.read.json('/opt/spark-apps/input/orders.json')\n",
    "df_customers_json.show()"
   ]
  }
 ],
 "metadata": {
  "kernelspec": {
   "display_name": "Python 3 (ipykernel)",
   "language": "python",
   "name": "python3"
  },
  "language_info": {
   "codemirror_mode": {
    "name": "ipython",
    "version": 3
   },
   "file_extension": ".py",
   "mimetype": "text/x-python",
   "name": "python",
   "nbconvert_exporter": "python",
   "pygments_lexer": "ipython3",
   "version": "3.10.5"
  }
 },
 "nbformat": 4,
 "nbformat_minor": 5
}
