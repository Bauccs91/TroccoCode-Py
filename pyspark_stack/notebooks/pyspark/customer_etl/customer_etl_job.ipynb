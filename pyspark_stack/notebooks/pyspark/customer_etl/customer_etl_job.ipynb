{
 "cells": [
  {
   "cell_type": "code",
   "execution_count": 1,
   "id": "0987febd-5cdc-4001-80bb-73c75dc29d39",
   "metadata": {},
   "outputs": [],
   "source": [
    "from pyspark.sql import SparkSession\n",
    "spark = SparkSession.builder.appName(\"CustomerETL\").getOrCreate()"
   ]
  },
  {
   "cell_type": "code",
   "execution_count": 2,
   "id": "675e1ad5-5c18-4d2b-b6e9-5e424708b8bb",
   "metadata": {},
   "outputs": [],
   "source": [
    "\n",
    "df_orders = spark.read.option(\"header\", True).csv(\"hdfs://hdfs-namenode:9000/customer_etl/input/orders.csv\")\n",
    "df_products = spark.read.json(\"hdfs://hdfs-namenode:9000/customer_etl/input/products.json\")\n",
    "df_customers = spark.read.option(\"header\", True).csv(\"hdfs://hdfs-namenode:9000/customer_etl/input/customers.csv\")\n"
   ]
  },
  {
   "cell_type": "code",
   "execution_count": 3,
   "id": "0b667c95-ca94-45f9-89b0-7efece2e8575",
   "metadata": {},
   "outputs": [
    {
     "name": "stdout",
     "output_type": "stream",
     "text": [
      "+--------+-----------+----------+--------+----------+\n",
      "|order_id|customer_id|product_id|quantity|order_date|\n",
      "+--------+-----------+----------+--------+----------+\n",
      "|    O001|       C101|      P201|       1|2025-05-01|\n",
      "|    O002|       C101|      P202|       2|2025-05-02|\n",
      "|    O003|       C102|      P201|       1|2025-05-02|\n",
      "|    O004|       C101|      P203|       2|2025-05-03|\n",
      "|    O005|       C103|      P204|       1|2025-05-05|\n",
      "|    O006|       C102|      P201|       2|2025-05-06|\n",
      "|    O007|       C101|      P202|       1|2025-05-07|\n",
      "|    O008|       C104|      P203|       2|2025-05-07|\n",
      "|    O009|       C104|      P202|       1|2025-05-08|\n",
      "|    O010|       C105|      P201|       1|2025-05-08|\n",
      "+--------+-----------+----------+--------+----------+\n",
      "\n"
     ]
    }
   ],
   "source": [
    "df_orders.show()\n"
   ]
  },
  {
   "cell_type": "code",
   "execution_count": 4,
   "id": "5ba1232b-9a00-4c72-a11f-059d519505e2",
   "metadata": {},
   "outputs": [],
   "source": [
    "\n",
    "df_orders.createOrReplaceTempView(\"orders\")\n",
    "df_products.createOrReplaceTempView(\"products\")\n",
    "df_customers.createOrReplaceTempView(\"customers\")\n"
   ]
  },
  {
   "cell_type": "code",
   "execution_count": 5,
   "id": "516a303d-f559-419b-9171-70cbd3113ca9",
   "metadata": {},
   "outputs": [
    {
     "data": {
      "text/plain": [
       "DataFrame[]"
      ]
     },
     "execution_count": 5,
     "metadata": {},
     "output_type": "execute_result"
    }
   ],
   "source": [
    "\n",
    "# Enrich with price\n",
    "spark.sql(\"\"\"\n",
    "    CREATE OR REPLACE TEMP VIEW enriched_orders AS\n",
    "    SELECT\n",
    "        o.order_id,\n",
    "        o.customer_id,\n",
    "        o.product_id,\n",
    "        o.quantity,\n",
    "        o.order_date,\n",
    "        p.category,\n",
    "        p.unit_price,\n",
    "        o.quantity * p.unit_price AS total_price\n",
    "    FROM orders o\n",
    "    JOIN products p ON o.product_id = p.product_id\n",
    "\"\"\")\n",
    "\n",
    "# Aggregate per customer\n",
    "spark.sql(\"\"\"\n",
    "    CREATE OR REPLACE TEMP VIEW customer_metrics AS\n",
    "    SELECT\n",
    "        customer_id,\n",
    "        COUNT(order_id) AS total_orders,\n",
    "        SUM(total_price) AS total_spent,\n",
    "        COUNT(DISTINCT order_date) AS days_active,\n",
    "        COUNT(DISTINCT category) AS categories_bought\n",
    "    FROM enriched_orders\n",
    "    GROUP BY customer_id\n",
    "\"\"\")\n",
    "\n",
    "# Add loyalty label\n",
    "spark.sql(\"\"\"\n",
    "    CREATE OR REPLACE TEMP VIEW customer_loyalty AS\n",
    "    SELECT\n",
    "        m.customer_id,\n",
    "        c.customer_name,\n",
    "        c.city,\n",
    "        c.state,\n",
    "        c.signup_date,\n",
    "        m.total_orders,\n",
    "        m.total_spent,\n",
    "        m.days_active,\n",
    "        m.categories_bought,\n",
    "        CASE\n",
    "            WHEN m.total_orders >= 3 AND m.days_active >= 2 AND m.categories_bought >= 2 THEN 'Loyal'\n",
    "            WHEN m.total_orders >= 2 AND (m.days_active >= 2 OR m.categories_bought >= 2) THEN 'Engaged'\n",
    "            ELSE 'Casual'\n",
    "        END AS loyalty_status\n",
    "    FROM customer_metrics m\n",
    "    JOIN customers c ON m.customer_id = c.customer_id\n",
    "\"\"\")\n"
   ]
  },
  {
   "cell_type": "code",
   "execution_count": 6,
   "id": "790aabeb-17d8-4383-bf85-173191277e84",
   "metadata": {},
   "outputs": [],
   "source": [
    "\n",
    "df_loyalty = spark.sql(\"SELECT * FROM customer_loyalty\")"
   ]
  },
  {
   "cell_type": "code",
   "execution_count": 7,
   "id": "6d5991cf-1796-46cd-ad7c-f8a0f6cbde2e",
   "metadata": {},
   "outputs": [
    {
     "name": "stdout",
     "output_type": "stream",
     "text": [
      "+-----------+---------------+-------------+-----+-----------+------------+-----------+-----------+-----------------+--------------+\n",
      "|customer_id|  customer_name|         city|state|signup_date|total_orders|total_spent|days_active|categories_bought|loyalty_status|\n",
      "+-----------+---------------+-------------+-----+-----------+------------+-----------+-----------+-----------------+--------------+\n",
      "|       C104|    Liam Garcia|      Chicago|   IL| 2025-01-25|           2|     2000.0|          2|                2|       Engaged|\n",
      "|       C102|  Ethan Johnson|       Austin|   TX| 2025-01-05|           2|      750.0|          2|                1|       Engaged|\n",
      "|       C103|     Emma Davis|     New York|   NY| 2025-03-20|           1|      150.0|          1|                1|        Casual|\n",
      "|       C105|   Ava Martinez|San Francisco|   CA| 2025-02-10|           1|      250.0|          1|                1|        Casual|\n",
      "|       C101|Olivia Thompson|      Seattle|   WA| 2024-10-15|           4|     4650.0|          4|                3|         Loyal|\n",
      "+-----------+---------------+-------------+-----+-----------+------------+-----------+-----------+-----------------+--------------+\n",
      "\n"
     ]
    }
   ],
   "source": [
    "df_loyalty.show()\n"
   ]
  },
  {
   "cell_type": "code",
   "execution_count": 8,
   "id": "fb0c49ce-f9a2-4300-8409-08298ca1587b",
   "metadata": {},
   "outputs": [],
   "source": [
    "\n",
    "df_loyalty.write.mode(\"overwrite\").option(\"header\", True).csv(\"hdfs://hdfs-namenode:9000/customer_etl/output/loyalty_snapshot\")"
   ]
  },
  {
   "cell_type": "code",
   "execution_count": null,
   "id": "31e0d84d-99d0-4b6d-9e0e-8d8fec88c109",
   "metadata": {},
   "outputs": [],
   "source": []
  }
 ],
 "metadata": {
  "kernelspec": {
   "display_name": "Python 3 (ipykernel)",
   "language": "python",
   "name": "python3"
  },
  "language_info": {
   "codemirror_mode": {
    "name": "ipython",
    "version": 3
   },
   "file_extension": ".py",
   "mimetype": "text/x-python",
   "name": "python",
   "nbconvert_exporter": "python",
   "pygments_lexer": "ipython3",
   "version": "3.10.5"
  }
 },
 "nbformat": 4,
 "nbformat_minor": 5
}
