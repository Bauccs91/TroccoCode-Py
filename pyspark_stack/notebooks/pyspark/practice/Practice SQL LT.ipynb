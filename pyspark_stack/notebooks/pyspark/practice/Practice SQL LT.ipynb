{
 "cells": [
  {
   "cell_type": "code",
   "execution_count": 1,
   "id": "5c701d2b-77ce-4084-a8ab-a2455cd7834d",
   "metadata": {},
   "outputs": [],
   "source": [
    "from pyspark.sql import SparkSession\n",
    "from pyspark.sql.functions import when\n",
    "\n",
    "spark = SparkSession.builder.appName(\"CustomerOrdersJobSQL\").getOrCreate()"
   ]
  },
  {
   "cell_type": "code",
   "execution_count": 2,
   "id": "ac283031-5c91-49e6-b79e-ccad1cb8bd41",
   "metadata": {},
   "outputs": [],
   "source": [
    "# 🔁 Dev Mode (Uncomment for local testing)\n",
    "customers_path = \"/opt/spark-apps/input/customers.csv\"\n",
    "orders_path = \"/opt/spark-apps/input/orders.json\"\n",
    "output_path_csv = \"/tmp/orders_enriched_csv\"\n",
    "output_path_parquet = \"/tmp/orders_enriched_parquet\"\n",
    "\n",
    "\n",
    "df_customers = spark.read.option(\"header\", True).csv(customers_path)\n",
    "df_orders = spark.read.json(orders_path)"
   ]
  },
  {
   "cell_type": "code",
   "execution_count": 3,
   "id": "ca262fee-6ec4-4ab9-92a1-5b496d678d16",
   "metadata": {},
   "outputs": [],
   "source": [
    "df_customers.createOrReplaceTempView(\"customers\")\n",
    "df_orders.createOrReplaceTempView(\"orders\")"
   ]
  },
  {
   "cell_type": "code",
   "execution_count": 4,
   "id": "44fdf3e8-ca4e-4816-9444-baafb09f293f",
   "metadata": {},
   "outputs": [
    {
     "name": "stdout",
     "output_type": "stream",
     "text": [
      "+-----------+----+-----+---+-------+\n",
      "|customer_id|name|email|age|country|\n",
      "+-----------+----+-----+---+-------+\n",
      "+-----------+----+-----+---+-------+\n",
      "\n"
     ]
    }
   ],
   "source": [
    "spark.sql(\"\"\"\n",
    "    SELECT *\n",
    "    FROM customers\n",
    "    WHERE country = 'USA'\n",
    "\"\"\").show()"
   ]
  },
  {
   "cell_type": "code",
   "execution_count": 5,
   "id": "0449259e-366c-48b1-a758-ba9ea9df9be6",
   "metadata": {},
   "outputs": [
    {
     "name": "stdout",
     "output_type": "stream",
     "text": [
      "+--------+----------+------+------------+\n",
      "|order_id|      name|amount|  order_type|\n",
      "+--------+----------+------+------------+\n",
      "|    5001|  John Doe| 250.5|  High Value|\n",
      "|    5002|Jane Smith| 145.0|Medium Value|\n",
      "|    5003|Rita Mehra|389.99|  High Value|\n",
      "|    5004| Wei Zhang| 89.99|   Low Value|\n",
      "+--------+----------+------+------------+\n",
      "\n"
     ]
    }
   ],
   "source": [
    "spark.sql(\"\"\"\n",
    "    SELECT o.order_id, c.name, o.amount,\n",
    "           CASE \n",
    "               WHEN o.amount >= 200 THEN 'High Value'\n",
    "               WHEN o.amount >= 100 THEN 'Medium Value'\n",
    "               ELSE 'Low Value'\n",
    "           END AS order_type\n",
    "    FROM orders o\n",
    "    JOIN customers c\n",
    "      ON o.customer_id = c.customer_id\n",
    "\"\"\").show()"
   ]
  },
  {
   "cell_type": "code",
   "execution_count": 6,
   "id": "dd0a1cc6-42a2-4f2e-8beb-7e87a9d28a1c",
   "metadata": {},
   "outputs": [],
   "source": [
    "df_enriched_op = spark.sql(\"\"\"\n",
    "    SELECT o.order_id, c.name, o.amount,\n",
    "           CASE \n",
    "               WHEN o.amount >= 200 THEN 'High Value'\n",
    "               WHEN o.amount >= 100 THEN 'Medium Value'\n",
    "               ELSE 'Low Value'\n",
    "           END AS order_type\n",
    "    FROM orders o\n",
    "    JOIN customers c\n",
    "      ON o.customer_id = c.customer_id\n",
    "\"\"\")\n",
    "\n",
    "df_enriched_op.write.mode(\"overwrite\").option(\"header\", True).csv(output_path_csv)\n",
    "df_enriched_op.write.mode(\"overwrite\").parquet(output_path_parquet)"
   ]
  },
  {
   "cell_type": "code",
   "execution_count": null,
   "id": "d50e65fc-b5a6-4e28-b7bb-2a4073141800",
   "metadata": {},
   "outputs": [],
   "source": []
  },
  {
   "cell_type": "code",
   "execution_count": null,
   "id": "7880755f-49cc-4cef-947a-351c6723e889",
   "metadata": {},
   "outputs": [],
   "source": []
  }
 ],
 "metadata": {
  "kernelspec": {
   "display_name": "Python 3 (ipykernel)",
   "language": "python",
   "name": "python3"
  },
  "language_info": {
   "codemirror_mode": {
    "name": "ipython",
    "version": 3
   },
   "file_extension": ".py",
   "mimetype": "text/x-python",
   "name": "python",
   "nbconvert_exporter": "python",
   "pygments_lexer": "ipython3",
   "version": "3.10.5"
  }
 },
 "nbformat": 4,
 "nbformat_minor": 5
}
