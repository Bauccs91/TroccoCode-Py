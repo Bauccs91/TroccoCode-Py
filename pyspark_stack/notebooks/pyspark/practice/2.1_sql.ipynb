{
 "cells": [
  {
   "cell_type": "code",
   "execution_count": 1,
   "id": "38be50a5-1185-418c-bf6c-3b1b8ed3271b",
   "metadata": {},
   "outputs": [],
   "source": [
    "## ✅ 1. Setup SparkSession & Imports\n",
    "\n",
    "from pyspark.sql import SparkSession\n",
    "from pyspark.sql.functions import when\n",
    "\n",
    "spark = SparkSession.builder.appName(\"CustomerOrdersJobSQL\").getOrCreate()"
   ]
  },
  {
   "cell_type": "code",
   "execution_count": 2,
   "id": "cae46af6-586c-494e-9221-e2be13593066",
   "metadata": {},
   "outputs": [],
   "source": [
    "\n",
    "\n",
    "# 🔁 Dev Mode (Uncomment for local testing)\n",
    "customers_path = \"/opt/spark-apps/input/customers.csv\"\n",
    "orders_path = \"/opt/spark-apps/input/orders.json\"\n",
    "output_path_csv = \"/tmp/orders_enriched_csv\"\n",
    "output_path_parquet = \"/tmp/orders_enriched_parquet\"\n",
    "\n",
    "# ✅ Prod Mode (HDFS)\n",
    "# customers_path = \"hdfs://hdfs-namenode:9000/input/customers.csv\"\n",
    "# orders_path = \"hdfs://hdfs-namenode:9000/input/orders.json\"\n",
    "# output_path_csv = \"hdfs://hdfs-namenode:9000/output/orders_enriched_csv\"\n",
    "# output_path_parquet = \"hdfs://hdfs-namenode:9000/output/orders_enriched_parquet\"\n",
    "\n",
    "df_customers = spark.read.option(\"header\", True).csv(customers_path)\n",
    "df_orders = spark.read.json(orders_path)\n"
   ]
  },
  {
   "cell_type": "code",
   "execution_count": 4,
   "id": "8382cd39-e305-47fd-853a-d85e76954bd6",
   "metadata": {},
   "outputs": [],
   "source": [
    "df_customers.createOrReplaceTempView(\"customers\")\n",
    "df_orders.createOrReplaceTempView(\"orders\")"
   ]
  },
  {
   "cell_type": "code",
   "execution_count": 5,
   "id": "a9fb23d7-d090-4522-98c3-b4f983082b15",
   "metadata": {},
   "outputs": [
    {
     "name": "stdout",
     "output_type": "stream",
     "text": [
      "+-----------+----+-----+---+-------+\n",
      "|customer_id|name|email|age|country|\n",
      "+-----------+----+-----+---+-------+\n",
      "+-----------+----+-----+---+-------+\n",
      "\n"
     ]
    }
   ],
   "source": [
    "spark.sql(\"\"\"\n",
    "    SELECT *\n",
    "    FROM customers\n",
    "    WHERE country = 'USA'\n",
    "\"\"\").show()"
   ]
  },
  {
   "cell_type": "code",
   "execution_count": 6,
   "id": "425bf420-ac79-4de7-8242-65f453035f50",
   "metadata": {},
   "outputs": [
    {
     "name": "stdout",
     "output_type": "stream",
     "text": [
      "+--------+----------+------+------------+\n",
      "|order_id|      name|amount|  order_type|\n",
      "+--------+----------+------+------------+\n",
      "|    5001|  John Doe| 250.5|  High Value|\n",
      "|    5002|Jane Smith| 145.0|Medium Value|\n",
      "|    5003|Rita Mehra|389.99|  High Value|\n",
      "|    5004| Wei Zhang| 89.99|   Low Value|\n",
      "+--------+----------+------+------------+\n",
      "\n"
     ]
    }
   ],
   "source": [
    "spark.sql(\"\"\"\n",
    "    SELECT o.order_id, c.name, o.amount,\n",
    "           CASE \n",
    "               WHEN o.amount >= 200 THEN 'High Value'\n",
    "               WHEN o.amount >= 100 THEN 'Medium Value'\n",
    "               ELSE 'Low Value'\n",
    "           END AS order_type\n",
    "    FROM orders o\n",
    "    JOIN customers c\n",
    "      ON o.customer_id = c.customer_id\n",
    "\"\"\").show()"
   ]
  },
  {
   "cell_type": "code",
   "execution_count": 10,
   "id": "00649754-d021-4479-ba3d-aa7977453135",
   "metadata": {},
   "outputs": [],
   "source": [
    "df_enriched_op = spark.sql(\"\"\"\n",
    "    SELECT o.order_id, c.name, o.amount,\n",
    "           CASE \n",
    "               WHEN o.amount >= 200 THEN 'High Value'\n",
    "               WHEN o.amount >= 100 THEN 'Medium Value'\n",
    "               ELSE 'Low Value'\n",
    "           END AS order_type\n",
    "    FROM orders o\n",
    "    JOIN customers c\n",
    "      ON o.customer_id = c.customer_id\n",
    "\"\"\")\n",
    "\n",
    "df_enriched_op.write.mode(\"overwrite\").option(\"header\", True).csv(output_path_csv)\n",
    "df_enriched_op.write.mode(\"overwrite\").parquet(output_path_parquet)"
   ]
  },
  {
   "cell_type": "code",
   "execution_count": null,
   "id": "37eeb15f-2057-4bae-a994-adde28b7b24c",
   "metadata": {},
   "outputs": [],
   "source": []
  }
 ],
 "metadata": {
  "kernelspec": {
   "display_name": "Python 3 (ipykernel)",
   "language": "python",
   "name": "python3"
  },
  "language_info": {
   "codemirror_mode": {
    "name": "ipython",
    "version": 3
   },
   "file_extension": ".py",
   "mimetype": "text/x-python",
   "name": "python",
   "nbconvert_exporter": "python",
   "pygments_lexer": "ipython3",
   "version": "3.10.5"
  }
 },
 "nbformat": 4,
 "nbformat_minor": 5
}
