{
 "cells": [
  {
   "cell_type": "code",
   "execution_count": null,
   "id": "08572a1f-c631-4509-b655-f173e4edcc8e",
   "metadata": {},
   "outputs": [],
   "source": [
    "## ✅ 1. Setup SparkSession & Imports\n",
    "\n",
    "from pyspark.sql import SparkSession\n",
    "from pyspark.sql.functions import when\n",
    "\n",
    "spark = SparkSession.builder.appName(\"CustomerOrdersJob\").getOrCreate()\n",
    "\n",
    "\n",
    "# 🔁 Dev Mode (Uncomment for local testing)\n",
    "customers_path = \"/opt/spark-apps/input/customers.csv\"\n",
    "orders_path = \"/opt/spark-apps/input/orders.json\"\n",
    "output_path_csv = \"/tmp/orders_enriched_csv\"\n",
    "output_path_parquet = \"/tmp/orders_enriched_parquet\"\n",
    "\n",
    "# ✅ Prod Mode (HDFS)\n",
    "# customers_path = \"hdfs://hdfs-namenode:9000/input/customers.csv\"\n",
    "# orders_path = \"hdfs://hdfs-namenode:9000/input/orders.json\"\n",
    "# output_path_csv = \"hdfs://hdfs-namenode:9000/output/orders_enriched_csv\"\n",
    "# output_path_parquet = \"hdfs://hdfs-namenode:9000/output/orders_enriched_parquet\"\n",
    "\n",
    "df_customers = spark.read.option(\"header\", True).csv(customers_path)\n",
    "df_orders = spark.read.json(orders_path)\n",
    "\n",
    "\n",
    "df_joined = df_orders.join(df_customers, on=\"customer_id\", how=\"inner\")\n",
    "\n",
    "df_enriched = df_joined.withColumn(\n",
    "    \"order_type\",\n",
    "    when(df_joined.amount >= 200, \"High Value\")\n",
    "    .when(df_joined.amount >= 100, \"Medium Value\")\n",
    "    .otherwise(\"Low Value\")\n",
    ")\n",
    "\n",
    "df_enriched.select(\"order_id\", \"name\", \"amount\", \"order_type\").show()\n",
    "\n",
    "df_enriched_op = df_enriched.select(\"order_id\", \"name\", \"amount\", \"order_type\")\n",
    "df_enriched_op.write.mode(\"overwrite\").option(\"header\", True).csv(output_path_csv)\n",
    "df_enriched_op.write.mode(\"overwrite\").parquet(output_path_parquet)\n"
   ]
  }
 ],
 "metadata": {
  "kernelspec": {
   "display_name": "Python 3 (ipykernel)",
   "language": "python",
   "name": "python3"
  },
  "language_info": {
   "codemirror_mode": {
    "name": "ipython",
    "version": 3
   },
   "file_extension": ".py",
   "mimetype": "text/x-python",
   "name": "python",
   "nbconvert_exporter": "python",
   "pygments_lexer": "ipython3",
   "version": "3.10.5"
  }
 },
 "nbformat": 4,
 "nbformat_minor": 5
}
