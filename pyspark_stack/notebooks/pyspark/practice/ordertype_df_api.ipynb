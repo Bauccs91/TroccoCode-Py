{
 "cells": [
  {
   "cell_type": "code",
   "execution_count": 1,
   "id": "94582153-8daa-42f0-b562-e69bc2c1f0f9",
   "metadata": {},
   "outputs": [],
   "source": [
    "from pyspark.sql import SparkSession\n",
    "from pyspark.sql.functions import when\n",
    "\n",
    "spark = SparkSession.builder.appName(\"CustomerOrdersJob\").getOrCreate()"
   ]
  },
  {
   "cell_type": "code",
   "execution_count": 2,
   "id": "eefd8ae0-0ea3-4299-9337-68320932da8a",
   "metadata": {},
   "outputs": [],
   "source": [
    "customers_path = \"/opt/spark-apps/input/customers.csv\"\n",
    "orders_path = \"/opt/spark-apps/input/orders.json\"\n",
    "output_path_csv = \"/tmp/orders_enriched_csv\"\n",
    "output_path_parquet = \"/tmp/orders_enriched_parquet\""
   ]
  },
  {
   "cell_type": "code",
   "execution_count": 3,
   "id": "827729b7-da61-4bda-bb68-e8245c29d5a3",
   "metadata": {},
   "outputs": [],
   "source": [
    "df_customers = spark.read.option(\"header\", True).csv(customers_path)\n",
    "df_orders = spark.read.json(orders_path)"
   ]
  },
  {
   "cell_type": "code",
   "execution_count": 4,
   "id": "7c1ab463-96da-43fc-9a86-3cbfbe126c32",
   "metadata": {},
   "outputs": [
    {
     "name": "stdout",
     "output_type": "stream",
     "text": [
      "+-----------+----------+----------------+---+-------+\n",
      "|customer_id|      name|           email|age|country|\n",
      "+-----------+----------+----------------+---+-------+\n",
      "|        101|  John Doe|john@example.com| 28|     US|\n",
      "|        102|Jane Smith|jane@example.com| 34|     UK|\n",
      "|        103|  Ali Khan| ali@example.com| 40|    UAE|\n",
      "|        104|Rita Mehra|rita@example.com| 25|  India|\n",
      "|        105| Wei Zhang| wei@example.com| 31|  China|\n",
      "+-----------+----------+----------------+---+-------+\n",
      "\n"
     ]
    }
   ],
   "source": [
    "df_customers.show()\n"
   ]
  },
  {
   "cell_type": "code",
   "execution_count": 5,
   "id": "b1c1cbfc-67cf-40c7-b4c8-37f3e98dd274",
   "metadata": {},
   "outputs": [
    {
     "name": "stdout",
     "output_type": "stream",
     "text": [
      "+-----------+----------+----------------+---+-------+\n",
      "|customer_id|name      |email           |age|country|\n",
      "+-----------+----------+----------------+---+-------+\n",
      "|101        |John Doe  |john@example.com|28 |US     |\n",
      "|102        |Jane Smith|jane@example.com|34 |UK     |\n",
      "|103        |Ali Khan  |ali@example.com |40 |UAE    |\n",
      "|104        |Rita Mehra|rita@example.com|25 |India  |\n",
      "+-----------+----------+----------------+---+-------+\n",
      "only showing top 4 rows\n",
      "\n"
     ]
    }
   ],
   "source": [
    "df_customers.show(4, False)"
   ]
  },
  {
   "cell_type": "code",
   "execution_count": 6,
   "id": "86ec6561-d3a1-49ee-880e-8b4d732e3b1c",
   "metadata": {},
   "outputs": [
    {
     "name": "stdout",
     "output_type": "stream",
     "text": [
      "+------+-----------+--------+----------+\n",
      "|amount|customer_id|order_id|    status|\n",
      "+------+-----------+--------+----------+\n",
      "| 250.5|        101|    5001|   shipped|\n",
      "| 145.0|        102|    5002| cancelled|\n",
      "|389.99|        104|    5003|processing|\n",
      "| 89.99|        105|    5004|   shipped|\n",
      "+------+-----------+--------+----------+\n",
      "only showing top 4 rows\n",
      "\n"
     ]
    }
   ],
   "source": [
    "df_orders.show(4)"
   ]
  },
  {
   "cell_type": "code",
   "execution_count": 7,
   "id": "fad7361f-1a67-4aba-9529-e1d63dc8879d",
   "metadata": {},
   "outputs": [],
   "source": [
    "\n",
    "df_joined = df_orders.join(df_customers, on=\"customer_id\", how=\"inner\")"
   ]
  },
  {
   "cell_type": "code",
   "execution_count": 8,
   "id": "350b743b-4810-44cc-a8bf-749a0ea2ab41",
   "metadata": {},
   "outputs": [
    {
     "name": "stdout",
     "output_type": "stream",
     "text": [
      "+-----------+------+--------+----------+----------+----------------+---+-------+\n",
      "|customer_id|amount|order_id|    status|      name|           email|age|country|\n",
      "+-----------+------+--------+----------+----------+----------------+---+-------+\n",
      "|        101| 250.5|    5001|   shipped|  John Doe|john@example.com| 28|     US|\n",
      "|        102| 145.0|    5002| cancelled|Jane Smith|jane@example.com| 34|     UK|\n",
      "|        104|389.99|    5003|processing|Rita Mehra|rita@example.com| 25|  India|\n",
      "|        105| 89.99|    5004|   shipped| Wei Zhang| wei@example.com| 31|  China|\n",
      "+-----------+------+--------+----------+----------+----------------+---+-------+\n",
      "\n"
     ]
    }
   ],
   "source": [
    "df_joined.show(4)\n"
   ]
  },
  {
   "cell_type": "code",
   "execution_count": 9,
   "id": "6fdc8907-b9e6-4583-9cf1-68caf15002bc",
   "metadata": {},
   "outputs": [],
   "source": [
    "df_enriched = df_joined.withColumn(\n",
    "    \"order_type\",\n",
    "    when(df_joined.amount >= 200, \"High Value\")\n",
    "    .when(df_joined.amount >= 100, \"Medium Value\")\n",
    "    .otherwise(\"Low Value\")\n",
    ")"
   ]
  },
  {
   "cell_type": "code",
   "execution_count": 10,
   "id": "8b74191d-7796-4058-b364-fcb04b676779",
   "metadata": {},
   "outputs": [
    {
     "name": "stdout",
     "output_type": "stream",
     "text": [
      "+--------+----------+------+------------+\n",
      "|order_id|      name|amount|  order_type|\n",
      "+--------+----------+------+------------+\n",
      "|    5001|  John Doe| 250.5|  High Value|\n",
      "|    5002|Jane Smith| 145.0|Medium Value|\n",
      "|    5003|Rita Mehra|389.99|  High Value|\n",
      "|    5004| Wei Zhang| 89.99|   Low Value|\n",
      "+--------+----------+------+------------+\n",
      "\n"
     ]
    }
   ],
   "source": [
    "\n",
    "df_enriched.select(\"order_id\", \"name\", \"amount\", \"order_type\").show()"
   ]
  },
  {
   "cell_type": "code",
   "execution_count": 11,
   "id": "fd66064d-baa3-45c5-b67c-6419e38e8451",
   "metadata": {},
   "outputs": [],
   "source": [
    "df_enriched_op = df_enriched.select(\"order_id\", \"name\", \"amount\", \"order_type\")"
   ]
  },
  {
   "cell_type": "code",
   "execution_count": 12,
   "id": "4cb5d398-465e-4864-84e8-ed4ce96ee897",
   "metadata": {},
   "outputs": [],
   "source": [
    "df_enriched_op.write.mode(\"overwrite\").option(\"header\", True).csv(output_path_csv)"
   ]
  },
  {
   "cell_type": "code",
   "execution_count": 13,
   "id": "3389110d-3aee-489d-ba54-1ecd16054fef",
   "metadata": {},
   "outputs": [],
   "source": [
    "df_enriched_op.write.mode(\"overwrite\").parquet(output_path_parquet)"
   ]
  },
  {
   "cell_type": "code",
   "execution_count": null,
   "id": "6e05f7c1-426a-4c99-a46d-4f2881113a82",
   "metadata": {},
   "outputs": [],
   "source": []
  }
 ],
 "metadata": {
  "kernelspec": {
   "display_name": "Python 3 (ipykernel)",
   "language": "python",
   "name": "python3"
  },
  "language_info": {
   "codemirror_mode": {
    "name": "ipython",
    "version": 3
   },
   "file_extension": ".py",
   "mimetype": "text/x-python",
   "name": "python",
   "nbconvert_exporter": "python",
   "pygments_lexer": "ipython3",
   "version": "3.10.5"
  }
 },
 "nbformat": 4,
 "nbformat_minor": 5
}
