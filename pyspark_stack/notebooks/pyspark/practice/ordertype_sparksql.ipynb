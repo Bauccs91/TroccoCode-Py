{
 "cells": [
  {
   "cell_type": "code",
   "execution_count": 1,
   "id": "6ca49655-0bac-49ae-9eb3-ef9f573d4aeb",
   "metadata": {},
   "outputs": [],
   "source": [
    "\n",
    "from pyspark.sql import SparkSession\n",
    "from pyspark.sql.functions import when\n",
    "\n",
    "spark = SparkSession.builder.appName(\"CustomerOrdersJobSQL\").getOrCreate()"
   ]
  },
  {
   "cell_type": "code",
   "execution_count": 2,
   "id": "beb04bbb-2497-4a04-8be6-449a0ef3a654",
   "metadata": {},
   "outputs": [],
   "source": [
    "customers_path = \"/opt/spark-apps/input/customers.csv\"\n",
    "orders_path = \"/opt/spark-apps/input/orders.json\"\n",
    "output_path_csv = \"/tmp/orders_enriched_csv\"\n",
    "output_path_parquet = \"/tmp/orders_enriched_parquet\""
   ]
  },
  {
   "cell_type": "code",
   "execution_count": 3,
   "id": "0ab5f2d5-80c5-4992-95cf-9c1afc0a2cbf",
   "metadata": {},
   "outputs": [],
   "source": [
    "df_customers = spark.read.option(\"header\", True).csv(customers_path)\n",
    "df_orders = spark.read.json(orders_path)\n"
   ]
  },
  {
   "cell_type": "code",
   "execution_count": 4,
   "id": "2724752c-a76e-415c-89eb-81d99d8c4454",
   "metadata": {},
   "outputs": [
    {
     "name": "stdout",
     "output_type": "stream",
     "text": [
      "+-----------+----------+----------------+---+-------+\n",
      "|customer_id|      name|           email|age|country|\n",
      "+-----------+----------+----------------+---+-------+\n",
      "|        101|  John Doe|john@example.com| 28|     US|\n",
      "|        102|Jane Smith|jane@example.com| 34|     UK|\n",
      "|        103|  Ali Khan| ali@example.com| 40|    UAE|\n",
      "|        104|Rita Mehra|rita@example.com| 25|  India|\n",
      "|        105| Wei Zhang| wei@example.com| 31|  China|\n",
      "+-----------+----------+----------------+---+-------+\n",
      "\n"
     ]
    }
   ],
   "source": [
    "df_customers.show()"
   ]
  },
  {
   "cell_type": "code",
   "execution_count": 5,
   "id": "524f5ca1-e353-4764-955a-bd554bc4fccf",
   "metadata": {},
   "outputs": [],
   "source": [
    "df_customers.createOrReplaceTempView(\"customers\")\n",
    "df_orders.createOrReplaceTempView(\"orders\")"
   ]
  },
  {
   "cell_type": "code",
   "execution_count": 7,
   "id": "a15c1c41-b273-4d09-ae6e-646313746e07",
   "metadata": {},
   "outputs": [
    {
     "name": "stdout",
     "output_type": "stream",
     "text": [
      "+--------+----------+------+------------+\n",
      "|order_id|      name|amount|  order_type|\n",
      "+--------+----------+------+------------+\n",
      "|    5001|  John Doe| 250.5|  High Value|\n",
      "|    5002|Jane Smith| 145.0|Medium Value|\n",
      "|    5003|Rita Mehra|389.99|  High Value|\n",
      "|    5004| Wei Zhang| 89.99|   Low Value|\n",
      "+--------+----------+------+------------+\n",
      "\n"
     ]
    }
   ],
   "source": [
    "spark.sql(\"\"\"\n",
    "select order_id, name, amount, \n",
    "case when o.amount >= 200 then 'High Value' \n",
    "when o.amount >=100 then 'Medium Value'\n",
    "else 'Low Value' end as order_type\n",
    " from customers c inner  join orders o on c.customer_id= o.customer_id\n",
    "\"\"\").show()\n"
   ]
  },
  {
   "cell_type": "code",
   "execution_count": 8,
   "id": "cc2c83fa-405c-4a8f-b954-21032f0221a9",
   "metadata": {},
   "outputs": [],
   "source": [
    "df_enriched_op_sql =  spark.sql(\"\"\"\n",
    "select order_id, name, amount, \n",
    "case when o.amount >= 200 then 'High Value' \n",
    "when o.amount >=100 then 'Medium Value'\n",
    "else 'Low Value' end as order_type\n",
    " from customers c inner  join orders o on c.customer_id= o.customer_id\n",
    "\"\"\")\n"
   ]
  },
  {
   "cell_type": "code",
   "execution_count": 9,
   "id": "618b4281-453e-4c5a-b61b-84b28863c2ba",
   "metadata": {},
   "outputs": [
    {
     "name": "stdout",
     "output_type": "stream",
     "text": [
      "+--------+----------+------+------------+\n",
      "|order_id|      name|amount|  order_type|\n",
      "+--------+----------+------+------------+\n",
      "|    5001|  John Doe| 250.5|  High Value|\n",
      "|    5002|Jane Smith| 145.0|Medium Value|\n",
      "|    5003|Rita Mehra|389.99|  High Value|\n",
      "|    5004| Wei Zhang| 89.99|   Low Value|\n",
      "+--------+----------+------+------------+\n",
      "\n"
     ]
    }
   ],
   "source": [
    "df_enriched_op_sql.show()"
   ]
  },
  {
   "cell_type": "code",
   "execution_count": 13,
   "id": "772f190d-a327-4f87-b819-33940ff7bf7d",
   "metadata": {},
   "outputs": [],
   "source": [
    "df_enriched_op_sql.createOrReplaceTempView(\"df_enriched_op_sql\")\n",
    "df_enriched_sql_output = spark.sql(\"\"\"select * from df_enriched_op_sql where\n",
    "order_type in ('High Value','Medium Value') \"\"\")\n"
   ]
  },
  {
   "cell_type": "code",
   "execution_count": 15,
   "id": "18f00ced-213d-458a-b6ec-df5d8e838318",
   "metadata": {},
   "outputs": [],
   "source": [
    "df_enriched_sql_output.write.mode(\"overwrite\").option(\"header\", True).csv(output_path_csv)"
   ]
  },
  {
   "cell_type": "code",
   "execution_count": null,
   "id": "1bd11c29-9c9d-4261-92ee-cff7845c79f6",
   "metadata": {},
   "outputs": [],
   "source": []
  }
 ],
 "metadata": {
  "kernelspec": {
   "display_name": "Python 3 (ipykernel)",
   "language": "python",
   "name": "python3"
  },
  "language_info": {
   "codemirror_mode": {
    "name": "ipython",
    "version": 3
   },
   "file_extension": ".py",
   "mimetype": "text/x-python",
   "name": "python",
   "nbconvert_exporter": "python",
   "pygments_lexer": "ipython3",
   "version": "3.10.5"
  }
 },
 "nbformat": 4,
 "nbformat_minor": 5
}
