{
 "cells": [
  {
   "cell_type": "code",
   "execution_count": 1,
   "id": "a7e137dd-5d70-4bac-a5ac-0c8a17352e05",
   "metadata": {},
   "outputs": [],
   "source": [
    "from pyspark.sql import SparkSession\n",
    "from pyspark.sql.functions import when\n",
    "\n",
    "spark = SparkSession.builder.appName(\"CustomerOrdersJob\").getOrCreate()\n"
   ]
  },
  {
   "cell_type": "code",
   "execution_count": 2,
   "id": "2519237e-6580-43f4-bd6a-97da91b2f04b",
   "metadata": {},
   "outputs": [],
   "source": [
    "customers_path = \"/opt/spark-apps/input/customers.csv\"\n",
    "orders_path = \"/opt/spark-apps/input/orders.json\"\n",
    "output_path_csv = \"/tmp/orders_enriched_csv\"\n",
    "output_path_parquet = \"/tmp/orders_enriched_parquet\""
   ]
  },
  {
   "cell_type": "code",
   "execution_count": 3,
   "id": "344592d7-bc01-4f88-b0b0-7b0bb7af4fbc",
   "metadata": {},
   "outputs": [
    {
     "name": "stdout",
     "output_type": "stream",
     "text": [
      "+--------+----------+------+------------+\n",
      "|order_id|      name|amount|  order_type|\n",
      "+--------+----------+------+------------+\n",
      "|    5001|  John Doe| 250.5|  High Value|\n",
      "|    5002|Jane Smith| 145.0|Medium Value|\n",
      "|    5003|Rita Mehra|389.99|  High Value|\n",
      "|    5004| Wei Zhang| 89.99|   Low Value|\n",
      "+--------+----------+------+------------+\n",
      "\n"
     ]
    }
   ],
   "source": [
    "\n",
    "df_customers = spark.read.option(\"header\", True).csv(customers_path)\n",
    "df_orders = spark.read.json(orders_path)\n",
    "\n",
    "\n",
    "df_joined = df_orders.join(df_customers, on=\"customer_id\", how=\"inner\")\n",
    "\n",
    "df_enriched = df_joined.withColumn(\n",
    "    \"order_type\",\n",
    "    when(df_joined.amount >= 200, \"High Value\")\n",
    "    .when(df_joined.amount >= 100, \"Medium Value\")\n",
    "    .otherwise(\"Low Value\")\n",
    ")\n",
    "\n",
    "df_enriched.select(\"order_id\", \"name\", \"amount\", \"order_type\").show()\n",
    "\n",
    "df_enriched_op = df_enriched.select(\"order_id\", \"name\", \"amount\", \"order_type\")\n",
    "df_enriched_op.write.mode(\"overwrite\").option(\"header\", True).csv(output_path_csv)"
   ]
  },
  {
   "cell_type": "code",
   "execution_count": 4,
   "id": "37e820b9-427b-4fec-a108-33979b849fc1",
   "metadata": {},
   "outputs": [
    {
     "data": {
      "text/plain": [
       "'/tmp/orders_enriched_csv'"
      ]
     },
     "execution_count": 4,
     "metadata": {},
     "output_type": "execute_result"
    }
   ],
   "source": [
    "output_path_csv\n"
   ]
  },
  {
   "cell_type": "code",
   "execution_count": 5,
   "id": "1428e45a-5bf9-4db7-8bd9-73c0b91fb62c",
   "metadata": {},
   "outputs": [],
   "source": [
    "df_enriched_op.write.mode(\"overwrite\").parquet(output_path_parquet)"
   ]
  },
  {
   "cell_type": "code",
   "execution_count": null,
   "id": "16c8db1d-b67b-4c10-8d71-c046bac5ca09",
   "metadata": {},
   "outputs": [],
   "source": []
  }
 ],
 "metadata": {
  "kernelspec": {
   "display_name": "Python 3 (ipykernel)",
   "language": "python",
   "name": "python3"
  },
  "language_info": {
   "codemirror_mode": {
    "name": "ipython",
    "version": 3
   },
   "file_extension": ".py",
   "mimetype": "text/x-python",
   "name": "python",
   "nbconvert_exporter": "python",
   "pygments_lexer": "ipython3",
   "version": "3.10.5"
  }
 },
 "nbformat": 4,
 "nbformat_minor": 5
}
